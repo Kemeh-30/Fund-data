def f(x):
    # if x is even, divide it by two
    if x % 2 == 0:
        return x // 2
    else:
        return 3 * x + 1

def collatz_sequence(x):
    sequence = []
    while x != 1:
        sequence.append(x)
        x = f(x)
    sequence.append(1)  # Add 1 to the sequence
    return sequence

def verify_collatz_conjecture(n):
    for i in range(1, n + 1):
        sequence = collatz_sequence(i)
        # Check if the sequence ends in 1 and repeats 4, 2, 1 pattern
        if sequence[-1] != 1 or sequence != [4, 2, 1] * ((len(sequence) + 2) // 3):
            return False
    return True

if verify_collatz_conjecture(10000):
    print("The Collatz conjecture is true for the first 10,000 positive integers.")
else:
    print("The Collatz conjecture is not true for at least one of the first 10,000 positive integers.")
