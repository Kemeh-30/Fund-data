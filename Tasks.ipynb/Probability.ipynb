{
 "cells": [
  {
   "cell_type": "markdown",
   "metadata": {},
   "source": [
    "# PROBABILITY TASK 4\n",
    "\n",
    "** ADEDOYINSOLA FIFO**\n",
    "\n",
    "***"
   ]
  },
  {
   "cell_type": "markdown",
   "metadata": {},
   "source": [
    "# QUESTION \n",
    "\n",
    "Suppose you are flipping two coins, each with a probability p of\n",
    "giving heads. Plot the entropy of the total number of heads versus\n",
    "p"
   ]
  },
  {
   "cell_type": "markdown",
   "metadata": {},
   "source": [
    "# Here's an example using Python and matplotlib"
   ]
  },
  {
   "cell_type": "code",
   "execution_count": null,
   "metadata": {
    "vscode": {
     "languageId": "plaintext"
    }
   },
   "outputs": [],
   "source": [
    "import numpy as np\n",
    "import matplotlib.pyplot as plt\n",
    "\n",
    "# Function to calculate entropy for given probability p\n",
    "def entropy(p):\n",
    "    q = 1 - p\n",
    "    return -(q**2 * np.log2(q**2) + 2*p*q*np.log2(2*p*q) + p**2*np.log2(p**2))\n",
    "\n",
    "# Generate a range of probabilities\n",
    "probabilities = np.linspace(0.01, 0.99, 100)\n",
    "\n",
    "# Calculate entropy for each probability\n",
    "entropies = [entropy(p) for p in probabilities]\n",
    "\n",
    "# Plotting\n",
    "plt.plot(probabilities, entropies, label='Entropy vs. p')\n",
    "plt.xlabel('Probability of Heads (p)')\n",
    "plt.ylabel('Entropy (H(X))')\n",
    "plt.title('Entropy of Total Number of Heads vs. Probability')\n",
    "plt.legend()\n",
    "plt.show()\n"
   ]
  }
 ],
 "metadata": {
  "language_info": {
   "name": "python"
  }
 },
 "nbformat": 4,
 "nbformat_minor": 2
}
