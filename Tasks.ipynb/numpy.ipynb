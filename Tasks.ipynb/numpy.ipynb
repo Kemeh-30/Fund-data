{
 "cells": [
  {
   "cell_type": "markdown",
   "metadata": {},
   "source": [
    "# PROBABILITY DISTRIBUTION TASK 3\n",
    "\n",
    "** ADEDOYINSOLA FIFO**\n",
    "\n",
    "***\n"
   ]
  },
  {
   "cell_type": "markdown",
   "metadata": {},
   "source": [
    "# QUESTION\n",
    "\n",
    "For each of the variables in the penguins data set suggest  probability distribution from the numpy random distributions list is the most appropriate to model the variable."
   ]
  },
  {
   "cell_type": "markdown",
   "metadata": {},
   "source": [
    "species, island, sex (Categorical Variables):\n",
    "\n",
    "For categorical variables, you don't typically model them with probability distributions. Instead, you use techniques like one-hot encoding or label encoding for machine learning tasks.\n",
    "bill_length_mm, bill_depth_mm, flipper_length_mm, body_mass_g (Numeric Variables):\n",
    "\n",
    "bill_length_mm, bill_depth_mm, flipper_length_mm: These are continuous variables representing physical measurements. Assuming they follow a normal distribution, you might use the numpy.random.normal distribution.\n",
    "\n",
    "body_mass_g: This is also a continuous variable, and again, you might consider using numpy.random.normal if it follows a normal distribution.\n",
    "\n"
   ]
  },
  {
   "cell_type": "markdown",
   "metadata": {},
   "source": [
    "# Example (using NumPy):\n",
    "\n",
    "\n",
    "import numpy as np\n",
    "\n",
    "# Assuming mean and standard deviation based on your data\n",
    "mean_bill_length = np.mean(penguins['bill_length_mm'])\n",
    "std_dev_bill_length = np.std(penguins['bill_length_mm'])\n",
    "\n",
    "# Generating random data based on normal distribution\n",
    "random_data = np.random.normal(mean_bill_length, std_dev_bill_length, size=1000)\n"
   ]
  },
  {
   "cell_type": "code",
   "execution_count": null,
   "metadata": {},
   "outputs": [],
   "source": [
    "import matplotlib.pyplot as plt\n",
    "import seaborn as sns\n",
    "\n",
    "# Load the penguins dataset (assuming you have it loaded as 'penguins')\n",
    "# If not, load it using your method.\n",
    "\n",
    "# Individual plot for species (Categorical Variable)\n",
    "sns.countplot(x='species', data=penguins)\n",
    "plt.title('Species Distribution')\n",
    "plt.show()\n",
    "\n",
    "# Individual plots for numeric variables\n",
    "numeric_variables = ['bill_length_mm', 'bill_depth_mm', 'flipper_length_mm', 'body_mass_g']\n",
    "\n",
    "for var in numeric_variables:\n",
    "    plt.figure(figsize=(8, 5))\n",
    "    sns.histplot(penguins[var], kde=True)\n",
    "    plt.title(f'Distribution of {var}')\n",
    "    plt.xlabel(var)\n",
    "    plt.show()\n",
    "\n",
    "# Individual plots for island (Categorical Variable)\n",
    "sns.countplot(x='island', data=penguins)\n",
    "plt.title('Island Distribution')\n",
    "plt.show()\n",
    "\n",
    "# Individual plots for sex (Categorical Variable)\n",
    "sns.countplot(x='sex', data=penguins)\n",
    "plt.title('Sex Distribution')\n",
    "plt.show()\n"
   ]
  }
 ],
 "metadata": {
  "kernelspec": {
   "display_name": "base",
   "language": "python",
   "name": "python3"
  },
  "language_info": {
   "codemirror_mode": {
    "name": "ipython",
    "version": 3
   },
   "file_extension": ".py",
   "mimetype": "text/x-python",
   "name": "python",
   "nbconvert_exporter": "python",
   "pygments_lexer": "ipython3",
   "version": "3.9.13"
  }
 },
 "nbformat": 4,
 "nbformat_minor": 2
}
