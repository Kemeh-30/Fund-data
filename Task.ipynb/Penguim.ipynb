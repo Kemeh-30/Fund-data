{
 "cells": [
  {
   "cell_type": "markdown",
   "metadata": {},
   "source": []
  },
  {
   "cell_type": "markdown",
   "metadata": {},
   "source": [
    "# PENGIUM DATASET TASK 2\n",
    "\n",
    "\n",
    "**ADEDOYINSOLA fIFO**\n",
    "\n",
    "***\n"
   ]
  },
  {
   "cell_type": "markdown",
   "metadata": {},
   "source": [
    "#QUESTION 2                            \n",
    "Give an overview of the famous penguins data set,\n",
    "the types of variables it contains. Suggest the types of variables\n",
    "that should be used to model them in Python, explaining your\n",
    "rationale."
   ]
  },
  {
   "cell_type": "markdown",
   "metadata": {},
   "source": [
    "The famous \"penguins\" dataset is a popular dataset in the field of data science and statistics. It is often used for practicing data analysis and visualization techniques. This dataset is available in the seaborn library and contains information about three species of penguins: Adelie, Chinstrap, and Gentoo.\n",
    "The variables in the penguins dataset are below:\n",
    "1.\tspecies: The species of penguin (categorical variable - nominal).\n",
    "2.\tisland: The island where the penguin was found (categorical variable - nominal).\n",
    "3.\tbill_length_mm: The length of the penguin's bill in millimeters (numeric variable - continuous).\n",
    "4.\tbill_depth_mm: The depth of the penguin's bill in millimeters (numeric variable - continuous).\n",
    "5.\tflipper_length_mm: The length of the penguin's flipper in millimeters (numeric variable - continuous).\n",
    "6.\tbody_mass_g: The body mass of the penguin in grams (numeric variable - continuous).\n",
    "7.\tsex: The gender of the penguin (categorical variable - nominal).\n",
    "\n",
    "Categorical Variables (Nominal):\n",
    "•\tspecies: This variable represents the species of the penguin, which is a categorical nominal variable. In Python, you can use one-hot encoding to convert this categorical variable into numerical format suitable for machine learning algorithms. Each species would be represented by a binary column (0 or 1).\n",
    "•\tisland: The island variable is also categorical and nominal. Similar to species, you can use one-hot encoding to represent the different islands as binary columns.\n",
    "•\tsex: The gender of the penguin is another categorical nominal variable. It can be encoded using one-hot encoding or label encoding.\n"
   ]
  },
  {
   "cell_type": "markdown",
   "metadata": {},
   "source": [
    "Example (using pandas and scikit-learn):\n",
    "\n",
    "import pandas as pd\n",
    "from sklearn.preprocessing import OneHotEncoder\n",
    "\n",
    "# Assuming 'df' is your DataFrame containing the penguins dataset\n",
    "df_encoded = pd.get_dummies(df, columns=['species', 'island', 'sex'])\n"
   ]
  },
  {
   "cell_type": "markdown",
   "metadata": {},
   "source": [
    "Numeric Variables \n",
    "•\tbill_length_mm, bill_depth_mm, flipper_length_mm, body_mass_g: These variables are numeric and continuous. For modeling, you might use regression techniques if you want to predict one of these variables based on others. Alternatively, you can use them as features in classification tasks.\n",
    "Example (using scikit-learn for regression):\n",
    "\n",
    "\n",
    "from sklearn.model_selection import train_test_split\n",
    "from sklearn.linear_model import LinearRegression\n",
    "\n",
    "# Assuming X contains your features and y contains the target variable (e.g., body_mass_g)\n",
    "X_train, X_test, y_train, y_test = train_test_split(X, y, test_size=0.2, random_state=42)\n",
    "\n",
    "model = LinearRegression()\n",
    "model.fit(X_train, y_train)\n",
    "\n",
    "\n",
    "from sklearn.model_selection import train_test_split\n",
    "from sklearn.linear_model import LinearRegression\n",
    "\n",
    "# Assuming X contains your features and y contains the target variable (e.g., body_mass_g)\n",
    "X_train, X_test, y_train, y_test = train_test_split(X, y, test_size=0.2, random_state=42)\n",
    "\n",
    "model = LinearRegression()\n",
    "model.fit(X_train, y_train)\n",
    "\n",
    "\n"
   ]
  },
  {
   "cell_type": "markdown",
   "metadata": {},
   "source": [
    "***\n",
    "## END"
   ]
  }
 ],
 "metadata": {
  "language_info": {
   "name": "python"
  }
 },
 "nbformat": 4,
 "nbformat_minor": 2
}
